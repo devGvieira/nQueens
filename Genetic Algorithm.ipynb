{
 "cells": [
  {
   "cell_type": "code",
   "execution_count": 16,
   "metadata": {},
   "outputs": [
    {
     "name": "stderr",
     "output_type": "stream",
     "text": [
      "/home/hub/Documents/Disciplina IA/Projeto 1 - Genetic Algorithm/GenAlgVenv/lib/python3.8/site-packages/deap/creator.py:185: RuntimeWarning: A class named 'FitnessMax' has already been created and it will be overwritten. Consider deleting previous creation of that class or rename it.\n",
      "  warnings.warn(\"A class named '{0}' has already been created and it \"\n",
      "/home/hub/Documents/Disciplina IA/Projeto 1 - Genetic Algorithm/GenAlgVenv/lib/python3.8/site-packages/deap/creator.py:185: RuntimeWarning: A class named 'Queens' has already been created and it will be overwritten. Consider deleting previous creation of that class or rename it.\n",
      "  warnings.warn(\"A class named '{0}' has already been created and it \"\n"
     ]
    }
   ],
   "source": [
    "import random\n",
    "import numpy\n",
    "from deap import base\n",
    "from deap import creator\n",
    "from deap import algorithms\n",
    "from deap import tools\n",
    "\n",
    "creator.create('FitnessMax', base.Fitness, weights=(1.0,))\n",
    "creator.create('Queens', list, fitness=creator.FitnessMax)\n",
    "\n",
    "def fitness_function(solucao):\n",
    "        melhorFitness = (len(solucao) * (len(solucao) - 1) // 2)\n",
    "        h = 0\n",
    "        #Contagem de ataques na diagonal e vertical\n",
    "        for i in range(0, len(solucao)):\n",
    "            for j in range(0, len(solucao)):\n",
    "                if j > i:\n",
    "                    # Avalia a diferença entre as colunas e as posições\n",
    "                    # das rainhas dentro da coluna\n",
    "                    if abs(i - j) == abs(solucao[i] - solucao[j]):\n",
    "                       #  print(f'{i} - {j} - {solucao[i]}-{solucao[j]}')\n",
    "                       h += 1\n",
    "                    # Ataques por linha (horizontal)\n",
    "                    # Avalia apenas as posições das rainhas\n",
    "                    if abs(solucao[i] - solucao[j]) == 0:\n",
    "                       h += 1\n",
    "        return (melhorFitness - h),\n",
    "\n",
    "def n_queens_comb1(n_queens):\n",
    "\n",
    "    toolbox = base.Toolbox()\n",
    "    toolbox.register('number_queens', random.randint, 0, n_queens)\n",
    "    toolbox.register('solution', tools.initRepeat, creator.Queens, toolbox.number_queens, n=(n_queens + 1))\n",
    "    toolbox.register('population',tools.initRepeat, list, toolbox.solution)\n",
    "\n",
    "    toolbox.register('evaluate', fitness_function)\n",
    "    toolbox.register('mate', tools.cxTwoPoint)\n",
    "    toolbox.register('mutate', tools.mutShuffleIndexes, indpb=0.05)\n",
    "    toolbox.register('select', tools.selRoulette)\n",
    "    population = toolbox.population(n=1000)\n",
    "\n",
    "    CXPB, MUTPB, NGEN = 0.8, 0.01, 100\n",
    "    hof = tools.HallOfFame(10)\n",
    "    stats = tools.Statistics(key=lambda ind: ind.fitness.values)\n",
    "    stats.register('Melhor Solução', numpy.max)\n",
    "    stats.register('Media', numpy.mean)\n",
    "\n",
    "    finalPop, logbook = algorithms.eaSimple(population, toolbox, CXPB, MUTPB, NGEN, stats=stats, halloffame=hof, verbose=False)\n",
    "\n",
    "    best_ind = tools.selBest(finalPop, 10)\n",
    "    for i in best_ind:\n",
    "        print(f'Solucao: {i} - Fitness {i.fitness}')"
   ]
  },
  {
   "cell_type": "code",
   "execution_count": 17,
   "metadata": {},
   "outputs": [
    {
     "name": "stdout",
     "output_type": "stream",
     "text": [
      "Para 10 rainhas:\n",
      "Solucao: [2, 10, 7, 10, 1, 9, 4, 0, 0, 3, 6] - Fitness (53.0,)\n",
      "Solucao: [5, 2, 10, 6, 10, 9, 4, 0, 3, 9, 7] - Fitness (52.0,)\n",
      "Solucao: [5, 10, 2, 6, 1, 9, 7, 0, 9, 3, 8] - Fitness (52.0,)\n",
      "Solucao: [2, 10, 7, 7, 10, 3, 1, 6, 9, 9, 2] - Fitness (51.0,)\n",
      "Solucao: [5, 1, 2, 6, 10, 6, 2, 0, 7, 3, 0] - Fitness (51.0,)\n",
      "Solucao: [5, 10, 4, 6, 10, 3, 1, 6, 0, 3, 7] - Fitness (51.0,)\n",
      "Solucao: [10, 10, 0, 5, 1, 9, 1, 8, 4, 3, 7] - Fitness (51.0,)\n",
      "Solucao: [5, 1, 2, 8, 10, 3, 1, 6, 9, 0, 6] - Fitness (51.0,)\n",
      "Solucao: [5, 8, 2, 6, 1, 9, 7, 0, 3, 3, 9] - Fitness (51.0,)\n",
      "Solucao: [5, 8, 2, 6, 10, 10, 4, 0, 9, 3, 7] - Fitness (51.0,)\n",
      "Para 15 rainhas:\n",
      "Solucao: [1, 3, 8, 0, 4, 15, 15, 9, 11, 0, 2, 7, 6, 14, 12, 2] - Fitness (114.0,)\n",
      "Solucao: [13, 0, 7, 9, 2, 15, 3, 4, 10, 12, 5, 3, 14, 13, 8, 1] - Fitness (114.0,)\n",
      "Solucao: [13, 6, 8, 8, 11, 14, 3, 0, 0, 10, 4, 1, 13, 15, 12, 2] - Fitness (113.0,)\n",
      "Solucao: [12, 10, 6, 11, 2, 1, 11, 0, 5, 15, 4, 8, 13, 9, 12, 7] - Fitness (112.0,)\n",
      "Solucao: [3, 5, 8, 1, 15, 2, 14, 12, 10, 0, 11, 12, 11, 3, 0, 2] - Fitness (112.0,)\n",
      "Solucao: [2, 6, 14, 11, 6, 15, 13, 8, 3, 0, 8, 3, 9, 7, 12, 15] - Fitness (112.0,)\n",
      "Solucao: [12, 10, 6, 11, 2, 1, 11, 0, 5, 15, 4, 8, 13, 9, 12, 7] - Fitness (112.0,)\n",
      "Solucao: [13, 6, 8, 11, 15, 10, 3, 4, 0, 0, 4, 7, 8, 12, 2, 1] - Fitness (111.0,)\n",
      "Solucao: [12, 10, 10, 1, 1, 15, 11, 6, 11, 13, 0, 7, 14, 13, 15, 7] - Fitness (111.0,)\n",
      "Solucao: [15, 10, 5, 13, 4, 12, 11, 0, 2, 14, 2, 7, 8, 15, 8, 3] - Fitness (111.0,)\n",
      "Para 20 rainhas:\n",
      "Solucao: [5, 16, 2, 0, 3, 9, 17, 18, 16, 7, 12, 20, 14, 8, 6, 9, 1, 10, 1, 7, 4] - Fitness (199.0,)\n",
      "Solucao: [11, 1, 20, 0, 14, 4, 15, 17, 20, 16, 0, 9, 3, 12, 17, 2, 18, 3, 14, 8, 8] - Fitness (199.0,)\n",
      "Solucao: [20, 5, 15, 16, 3, 11, 16, 1, 20, 1, 14, 10, 0, 9, 11, 13, 2, 18, 7, 8, 6] - Fitness (198.0,)\n",
      "Solucao: [10, 4, 15, 12, 2, 0, 7, 18, 16, 3, 6, 20, 19, 14, 20, 3, 13, 3, 18, 13, 5] - Fitness (198.0,)\n",
      "Solucao: [10, 7, 11, 16, 8, 1, 20, 4, 20, 0, 0, 13, 7, 12, 16, 9, 13, 3, 19, 12, 6] - Fitness (197.0,)\n",
      "Solucao: [11, 5, 2, 4, 2, 19, 16, 18, 15, 3, 0, 7, 5, 18, 12, 0, 13, 3, 18, 8, 9] - Fitness (197.0,)\n",
      "Solucao: [5, 11, 6, 12, 2, 0, 15, 1, 20, 16, 12, 7, 19, 6, 20, 8, 13, 14, 4, 8, 4] - Fitness (197.0,)\n",
      "Solucao: [15, 20, 3, 16, 12, 17, 0, 4, 11, 0, 0, 2, 14, 12, 20, 7, 10, 3, 5, 6, 9] - Fitness (197.0,)\n",
      "Solucao: [15, 3, 10, 12, 3, 4, 9, 18, 5, 2, 6, 5, 17, 20, 9, 13, 8, 3, 1, 8, 6] - Fitness (197.0,)\n",
      "Solucao: [5, 18, 2, 0, 19, 10, 16, 5, 15, 1, 6, 5, 20, 12, 3, 14, 10, 3, 11, 7, 17] - Fitness (197.0,)\n"
     ]
    }
   ],
   "source": [
    "queens = [10,15,20]\n",
    "\n",
    "for item in queens:\n",
    "    print('Para', item, 'rainhas:')\n",
    "    n_queens_comb1(item)"
   ]
  },
  {
   "cell_type": "code",
   "execution_count": 20,
   "metadata": {},
   "outputs": [],
   "source": [
    "def n_queens_comb2(n_queens):\n",
    "\n",
    "    toolbox = base.Toolbox()\n",
    "    toolbox.register('number_queens', random.randint, 0, n_queens)\n",
    "    toolbox.register('solution', tools.initRepeat, creator.Queens, toolbox.number_queens, n=(n_queens + 1))\n",
    "    toolbox.register('population',tools.initRepeat, list, toolbox.solution)\n",
    "\n",
    "    toolbox.register('evaluate', fitness_function)\n",
    "    toolbox.register('mate', tools.cxUniform, indpb=0.05)\n",
    "    toolbox.register('mutate', tools.mutUniformInt, indpb=0.05, low=1, up=5)\n",
    "    toolbox.register('select', tools.selTournament, tournsize = 3)\n",
    "    population = toolbox.population(n=1000)\n",
    "\n",
    "    CXPB, MUTPB, NGEN = 0.8, 0.01, 100\n",
    "    hof = tools.HallOfFame(10)\n",
    "    stats = tools.Statistics(key=lambda ind: ind.fitness.values)\n",
    "    stats.register('Melhor Solução', numpy.max)\n",
    "    stats.register('Media', numpy.mean)\n",
    "\n",
    "    finalPop, logbook = algorithms.eaSimple(population, toolbox, CXPB, MUTPB, NGEN, stats=stats, halloffame=hof, verbose=False)\n",
    "\n",
    "    best_ind = tools.selBest(finalPop, 10)\n",
    "    for i in best_ind:\n",
    "        print(f'Solucao: {i} - Fitness {i.fitness}')"
   ]
  },
  {
   "cell_type": "code",
   "execution_count": 21,
   "metadata": {},
   "outputs": [
    {
     "name": "stdout",
     "output_type": "stream",
     "text": [
      "Para 10 rainhas:\n",
      "Solucao: [4, 2, 7, 3, 10, 6, 9, 0, 5, 1, 8] - Fitness (54.0,)\n",
      "Solucao: [4, 2, 7, 3, 10, 6, 9, 0, 5, 1, 8] - Fitness (54.0,)\n",
      "Solucao: [4, 2, 7, 3, 10, 6, 9, 0, 5, 1, 8] - Fitness (54.0,)\n",
      "Solucao: [4, 2, 7, 3, 10, 6, 9, 0, 5, 1, 8] - Fitness (54.0,)\n",
      "Solucao: [4, 2, 7, 3, 10, 6, 9, 0, 5, 1, 8] - Fitness (54.0,)\n",
      "Solucao: [4, 2, 7, 3, 10, 6, 9, 0, 5, 1, 8] - Fitness (54.0,)\n",
      "Solucao: [4, 2, 7, 3, 10, 6, 9, 0, 5, 1, 8] - Fitness (54.0,)\n",
      "Solucao: [4, 2, 7, 3, 10, 6, 9, 0, 5, 1, 8] - Fitness (54.0,)\n",
      "Solucao: [4, 2, 7, 3, 10, 6, 9, 0, 5, 1, 8] - Fitness (54.0,)\n",
      "Solucao: [4, 2, 7, 3, 10, 6, 9, 0, 5, 1, 8] - Fitness (54.0,)\n",
      "Para 15 rainhas:\n",
      "Solucao: [7, 13, 1, 14, 6, 3, 0, 4, 11, 9, 12, 2, 8, 2, 15, 10] - Fitness (118.0,)\n",
      "Solucao: [7, 13, 1, 14, 6, 3, 0, 4, 11, 9, 12, 2, 8, 2, 15, 10] - Fitness (118.0,)\n",
      "Solucao: [7, 13, 1, 14, 6, 3, 0, 4, 11, 9, 12, 2, 8, 2, 15, 10] - Fitness (118.0,)\n",
      "Solucao: [7, 13, 1, 14, 6, 3, 0, 4, 11, 9, 12, 2, 8, 2, 15, 10] - Fitness (118.0,)\n",
      "Solucao: [7, 13, 1, 14, 6, 3, 0, 4, 11, 9, 12, 2, 8, 2, 15, 10] - Fitness (118.0,)\n",
      "Solucao: [7, 13, 1, 14, 6, 3, 0, 4, 11, 9, 12, 2, 8, 2, 15, 10] - Fitness (118.0,)\n",
      "Solucao: [7, 13, 1, 14, 6, 3, 0, 4, 11, 9, 12, 2, 8, 2, 15, 10] - Fitness (118.0,)\n",
      "Solucao: [7, 13, 1, 14, 6, 3, 0, 4, 11, 9, 12, 2, 8, 2, 15, 10] - Fitness (118.0,)\n",
      "Solucao: [7, 13, 1, 14, 6, 3, 0, 4, 11, 9, 12, 2, 8, 2, 15, 10] - Fitness (118.0,)\n",
      "Solucao: [7, 13, 1, 14, 6, 3, 0, 4, 11, 9, 12, 2, 8, 2, 15, 10] - Fitness (118.0,)\n",
      "Para 20 rainhas:\n",
      "Solucao: [2, 14, 2, 4, 7, 9, 20, 18, 1, 8, 17, 5, 0, 11, 19, 6, 3, 12, 10, 13, 16] - Fitness (208.0,)\n",
      "Solucao: [2, 14, 2, 4, 7, 9, 20, 18, 1, 8, 17, 5, 0, 11, 19, 6, 3, 12, 10, 13, 16] - Fitness (208.0,)\n",
      "Solucao: [2, 14, 2, 4, 7, 9, 20, 18, 1, 8, 17, 5, 0, 11, 19, 6, 3, 12, 10, 13, 16] - Fitness (208.0,)\n",
      "Solucao: [2, 14, 2, 4, 7, 9, 20, 18, 1, 8, 17, 5, 0, 11, 19, 6, 3, 12, 10, 13, 16] - Fitness (208.0,)\n",
      "Solucao: [2, 14, 2, 4, 7, 9, 20, 18, 1, 8, 17, 5, 0, 11, 19, 6, 3, 12, 10, 13, 16] - Fitness (208.0,)\n",
      "Solucao: [2, 14, 2, 15, 7, 9, 20, 18, 1, 8, 17, 5, 0, 11, 19, 6, 3, 12, 10, 13, 16] - Fitness (208.0,)\n",
      "Solucao: [2, 14, 2, 4, 7, 9, 20, 18, 1, 8, 17, 5, 0, 11, 19, 6, 3, 12, 10, 13, 16] - Fitness (208.0,)\n",
      "Solucao: [2, 14, 2, 4, 7, 9, 20, 18, 1, 8, 17, 5, 0, 11, 19, 6, 3, 12, 10, 13, 16] - Fitness (208.0,)\n",
      "Solucao: [2, 14, 2, 4, 7, 9, 20, 18, 1, 8, 17, 5, 0, 11, 19, 6, 3, 12, 10, 13, 16] - Fitness (208.0,)\n",
      "Solucao: [2, 14, 2, 4, 7, 9, 20, 18, 1, 8, 17, 5, 0, 11, 19, 6, 3, 12, 10, 13, 16] - Fitness (208.0,)\n"
     ]
    }
   ],
   "source": [
    "queens = [10,15,20]\n",
    "\n",
    "for item in queens:\n",
    "    print('Para', item, 'rainhas:')\n",
    "    n_queens_comb2(item)"
   ]
  },
  {
   "cell_type": "code",
   "execution_count": null,
   "metadata": {},
   "outputs": [],
   "source": []
  }
 ],
 "metadata": {
  "kernelspec": {
   "display_name": "GenAlgVenv",
   "language": "python",
   "name": "python3"
  },
  "language_info": {
   "codemirror_mode": {
    "name": "ipython",
    "version": 3
   },
   "file_extension": ".py",
   "mimetype": "text/x-python",
   "name": "python",
   "nbconvert_exporter": "python",
   "pygments_lexer": "ipython3",
   "version": "3.8.10"
  }
 },
 "nbformat": 4,
 "nbformat_minor": 2
}
