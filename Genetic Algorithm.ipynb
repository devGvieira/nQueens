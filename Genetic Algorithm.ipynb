{
 "cells": [
  {
   "cell_type": "code",
   "execution_count": 17,
   "metadata": {},
   "outputs": [],
   "source": [
    "import random\n",
    "import numpy\n",
    "from deap import base\n",
    "from deap import creator\n",
    "from deap import algorithms\n",
    "from deap import tools\n",
    "\n",
    "creator.create('FitnessMax', base.Fitness, weights=(1.0,))\n",
    "creator.create('Queens', list, fitness=creator.FitnessMax)\n",
    "\n",
    "queens = 7\n",
    "\n",
    "toolbox = base.Toolbox()\n",
    "toolbox.register('number_queens', random.randint, 0, queens)\n",
    "toolbox.register('solution', tools.initRepeat, creator.Queens, toolbox.number_queens, n=(queens + 1))\n",
    "toolbox.register('population',tools.initRepeat, list, toolbox.solution)"
   ]
  },
  {
   "cell_type": "code",
   "execution_count": 18,
   "metadata": {},
   "outputs": [],
   "source": [
    "def fitness_function(solucao):\n",
    "        melhorFitness = (len(solucao) * (len(solucao) - 1) // 2)\n",
    "        h = 0\n",
    "        #Contagem de ataques na diagonal e vertical\n",
    "        for i in range(0, len(solucao)):\n",
    "            for j in range(0, len(solucao)):\n",
    "                if j > i:\n",
    "                    # Avalia a diferença entre as colunas e as posições\n",
    "                    # das rainhas dentro da coluna\n",
    "                    if abs(i - j) == abs(solucao[i] - solucao[j]):\n",
    "                       #  print(f'{i} - {j} - {solucao[i]}-{solucao[j]}')\n",
    "                       h += 1\n",
    "                    # Ataques por linha (horizontal)\n",
    "                    # Avalia apenas as posições das rainhas\n",
    "                    if abs(solucao[i] - solucao[j]) == 0:\n",
    "                       h += 1\n",
    "        return (melhorFitness - h),"
   ]
  },
  {
   "cell_type": "code",
   "execution_count": 19,
   "metadata": {},
   "outputs": [],
   "source": [
    "toolbox.register('evaluate', fitness_function)\n",
    "toolbox.register('mate', tools.cxTwoPoint)\n",
    "toolbox.register('mutate', tools.mutShuffleIndexes, indpb=0.05)\n",
    "toolbox.register('select', tools.selRoulette)\n",
    "population = toolbox.population(n=1000)"
   ]
  },
  {
   "cell_type": "code",
   "execution_count": 20,
   "metadata": {},
   "outputs": [],
   "source": [
    "CXPB, MUTPB, NGEN = 0.8, 0.01, 100\n",
    "hof = tools.HallOfFame(10)\n",
    "stats = tools.Statistics(key=lambda ind: ind.fitness.values)\n",
    "stats.register('Melhor Solução', numpy.max)\n",
    "stats.register('Media', numpy.mean)"
   ]
  },
  {
   "cell_type": "code",
   "execution_count": 21,
   "metadata": {},
   "outputs": [
    {
     "name": "stdout",
     "output_type": "stream",
     "text": [
      "Solucao: [7, 3, 7, 0, 2, 6, 6, 1] - Fitness (26.0,)\n",
      "Solucao: [4, 3, 5, 0, 2, 6, 2, 7] - Fitness (26.0,)\n",
      "Solucao: [4, 3, 7, 0, 2, 6, 5, 1] - Fitness (26.0,)\n",
      "Solucao: [4, 1, 5, 7, 2, 6, 3, 1] - Fitness (26.0,)\n",
      "Solucao: [4, 1, 5, 0, 2, 7, 5, 1] - Fitness (26.0,)\n",
      "Solucao: [4, 3, 7, 0, 2, 6, 5, 1] - Fitness (26.0,)\n",
      "Solucao: [4, 3, 7, 0, 2, 6, 6, 1] - Fitness (26.0,)\n",
      "Solucao: [7, 4, 2, 0, 2, 6, 5, 1] - Fitness (26.0,)\n",
      "Solucao: [4, 1, 7, 0, 2, 6, 5, 1] - Fitness (26.0,)\n",
      "Solucao: [4, 7, 5, 0, 2, 6, 3, 1] - Fitness (26.0,)\n"
     ]
    }
   ],
   "source": [
    "finalPop, logbook = algorithms.eaSimple(population, toolbox, CXPB, MUTPB, NGEN, stats=stats, halloffame=hof, verbose=False)\n",
    "\n",
    "best_ind = tools.selBest(finalPop, 10)\n",
    "for i in best_ind:\n",
    "  print(f'Solucao: {i} - Fitness {i.fitness}')"
   ]
  }
 ],
 "metadata": {
  "kernelspec": {
   "display_name": "GenAlgVenv",
   "language": "python",
   "name": "python3"
  },
  "language_info": {
   "codemirror_mode": {
    "name": "ipython",
    "version": 3
   },
   "file_extension": ".py",
   "mimetype": "text/x-python",
   "name": "python",
   "nbconvert_exporter": "python",
   "pygments_lexer": "ipython3",
   "version": "3.8.10"
  }
 },
 "nbformat": 4,
 "nbformat_minor": 2
}
